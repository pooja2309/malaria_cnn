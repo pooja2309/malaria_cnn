{
 "cells": [
  {
   "cell_type": "code",
   "execution_count": 3,
   "metadata": {},
   "outputs": [],
   "source": [
    "import numpy as np;\n",
    "np.random.seed(1000)\n",
    "import cv2;\n",
    "import os;\n",
    "from PIL import Image\n",
    "import keras\n",
    "os.environ['KERAS_BACKEND'] = 'tensorflow'"
   ]
  },
  {
   "cell_type": "code",
   "execution_count": 2,
   "metadata": {},
   "outputs": [],
   "source": [
    "from sklearn.model_selection import train_test_split\n",
    "from keras.utils import to_categorical\n",
    "import matplotlib.pyplot as plt\n"
   ]
  },
  {
   "cell_type": "code",
   "execution_count": 4,
   "metadata": {},
   "outputs": [],
   "source": [
    "image_directory = 'C:/Pooja/DL/cell_images/cell_images/'\n",
    "SIZE = 64\n",
    "dataset = []  \n",
    "label = [] "
   ]
  },
  {
   "cell_type": "code",
   "execution_count": 6,
   "metadata": {},
   "outputs": [],
   "source": [
    "parasitized_images = os.listdir(image_directory + 'Parasitized/')\n",
    "for i, image_name in enumerate(parasitized_images):    #Remember enumerate method adds a counter and returns the enumerate object\n",
    "    \n",
    "    if (image_name.split('.')[1] == 'png'):\n",
    "        image = cv2.imread(image_directory + 'Parasitized/' + image_name)\n",
    "        image = Image.fromarray(image, 'RGB')\n",
    "        image = image.resize((SIZE, SIZE))\n",
    "        dataset.append(np.array(image))\n",
    "        label.append(0)"
   ]
  },
  {
   "cell_type": "code",
   "execution_count": 7,
   "metadata": {},
   "outputs": [],
   "source": [
    "uninfected_images = os.listdir(image_directory + 'Uninfected/')\n",
    "for i, image_name in enumerate(uninfected_images):\n",
    "    if (image_name.split('.')[1] == 'png'):\n",
    "        image = cv2.imread(image_directory + 'Uninfected/' + image_name)\n",
    "        image = Image.fromarray(image, 'RGB')\n",
    "        image = image.resize((SIZE, SIZE))\n",
    "        dataset.append(np.array(image))\n",
    "        label.append(1)"
   ]
  },
  {
   "cell_type": "code",
   "execution_count": 8,
   "metadata": {},
   "outputs": [
    {
     "name": "stdout",
     "output_type": "stream",
     "text": [
      "Model: \"model_2\"\n",
      "_________________________________________________________________\n",
      "Layer (type)                 Output Shape              Param #   \n",
      "=================================================================\n",
      "input_2 (InputLayer)         (None, 64, 64, 3)         0         \n",
      "_________________________________________________________________\n",
      "conv2d_3 (Conv2D)            (None, 64, 64, 32)        896       \n",
      "_________________________________________________________________\n",
      "max_pooling2d_3 (MaxPooling2 (None, 32, 32, 32)        0         \n",
      "_________________________________________________________________\n",
      "batch_normalization_5 (Batch (None, 32, 32, 32)        128       \n",
      "_________________________________________________________________\n",
      "dropout_5 (Dropout)          (None, 32, 32, 32)        0         \n",
      "_________________________________________________________________\n",
      "conv2d_4 (Conv2D)            (None, 32, 32, 32)        9248      \n",
      "_________________________________________________________________\n",
      "max_pooling2d_4 (MaxPooling2 (None, 16, 16, 32)        0         \n",
      "_________________________________________________________________\n",
      "batch_normalization_6 (Batch (None, 16, 16, 32)        128       \n",
      "_________________________________________________________________\n",
      "dropout_6 (Dropout)          (None, 16, 16, 32)        0         \n",
      "_________________________________________________________________\n",
      "flatten_2 (Flatten)          (None, 8192)              0         \n",
      "_________________________________________________________________\n",
      "dense_4 (Dense)              (None, 512)               4194816   \n",
      "_________________________________________________________________\n",
      "batch_normalization_7 (Batch (None, 512)               2048      \n",
      "_________________________________________________________________\n",
      "dropout_7 (Dropout)          (None, 512)               0         \n",
      "_________________________________________________________________\n",
      "dense_5 (Dense)              (None, 256)               131328    \n",
      "_________________________________________________________________\n",
      "batch_normalization_8 (Batch (None, 256)               1024      \n",
      "_________________________________________________________________\n",
      "dropout_8 (Dropout)          (None, 256)               0         \n",
      "_________________________________________________________________\n",
      "dense_6 (Dense)              (None, 2)                 514       \n",
      "=================================================================\n",
      "Total params: 4,340,130\n",
      "Trainable params: 4,338,466\n",
      "Non-trainable params: 1,664\n",
      "_________________________________________________________________\n",
      "None\n"
     ]
    }
   ],
   "source": [
    "#Apply CNN\n",
    "# ### Build the model\n",
    "\n",
    "##2 conv and pool layers. with some normalization and drops in between.\n",
    "\n",
    "INPUT_SHAPE = (SIZE, SIZE, 3)   #change to (SIZE, SIZE, 3)\n",
    "inp = keras.layers.Input(shape=INPUT_SHAPE)\n",
    "\n",
    "conv1 = keras.layers.Conv2D(32, kernel_size=(3, 3), \n",
    "                               activation='relu', padding='same')(inp)\n",
    "pool1 = keras.layers.MaxPooling2D(pool_size=(2, 2))(conv1)\n",
    "norm1 = keras.layers.BatchNormalization(axis = -1)(pool1)\n",
    "drop1 = keras.layers.Dropout(rate=0.2)(norm1)\n",
    "conv2 = keras.layers.Conv2D(32, kernel_size=(3, 3), \n",
    "                               activation='relu', padding='same')(drop1)\n",
    "pool2 = keras.layers.MaxPooling2D(pool_size=(2, 2))(conv2)\n",
    "norm2 = keras.layers.BatchNormalization(axis = -1)(pool2)\n",
    "drop2 = keras.layers.Dropout(rate=0.2)(norm2)\n",
    "\n",
    "flat = keras.layers.Flatten()(drop2)  #Flatten the matrix to get it ready for dense.\n",
    "\n",
    "hidden1 = keras.layers.Dense(512, activation='relu')(flat)\n",
    "norm3 = keras.layers.BatchNormalization(axis = -1)(hidden1)\n",
    "drop3 = keras.layers.Dropout(rate=0.2)(norm3)\n",
    "hidden2 = keras.layers.Dense(256, activation='relu')(drop3)\n",
    "norm4 = keras.layers.BatchNormalization(axis = -1)(hidden2)\n",
    "drop4 = keras.layers.Dropout(rate=0.2)(norm4)\n",
    "\n",
    "out = keras.layers.Dense(2, activation='sigmoid')(drop4)   \n",
    "\n",
    "model = keras.Model(inputs=inp, outputs=out)\n",
    "model.compile(optimizer='adam',\n",
    "                loss='categorical_crossentropy',   \n",
    "                metrics=['accuracy'])\n",
    "print(model.summary())\n"
   ]
  },
  {
   "cell_type": "code",
   "execution_count": 9,
   "metadata": {},
   "outputs": [
    {
     "name": "stdout",
     "output_type": "stream",
     "text": [
      "Train on 19841 samples, validate on 2205 samples\n",
      "Epoch 1/25\n",
      "19841/19841 [==============================] - 541s 27ms/step - loss: 0.4108 - accuracy: 0.8095 - val_loss: 1.0551 - val_accuracy: 0.7937\n",
      "Epoch 2/25\n",
      "19841/19841 [==============================] - 543s 27ms/step - loss: 0.2206 - accuracy: 0.9190 - val_loss: 0.5894 - val_accuracy: 0.8254\n",
      "Epoch 3/25\n",
      "19841/19841 [==============================] - 541s 27ms/step - loss: 0.1875 - accuracy: 0.9286 - val_loss: 0.2702 - val_accuracy: 0.9129\n",
      "Epoch 4/25\n",
      "19841/19841 [==============================] - 552s 28ms/step - loss: 0.1631 - accuracy: 0.9397 - val_loss: 0.1975 - val_accuracy: 0.9161\n",
      "Epoch 5/25\n",
      "19841/19841 [==============================] - 548s 28ms/step - loss: 0.1474 - accuracy: 0.9454 - val_loss: 0.2106 - val_accuracy: 0.9293\n",
      "Epoch 6/25\n",
      "19841/19841 [==============================] - 546s 28ms/step - loss: 0.1296 - accuracy: 0.9496 - val_loss: 0.1756 - val_accuracy: 0.9406\n",
      "Epoch 7/25\n",
      "19841/19841 [==============================] - 539s 27ms/step - loss: 0.1164 - accuracy: 0.9551 - val_loss: 0.1617 - val_accuracy: 0.9388\n",
      "Epoch 8/25\n",
      "19841/19841 [==============================] - 540s 27ms/step - loss: 0.0985 - accuracy: 0.9613 - val_loss: 0.1725 - val_accuracy: 0.9501\n",
      "Epoch 9/25\n",
      "19841/19841 [==============================] - 546s 28ms/step - loss: 0.0877 - accuracy: 0.9662 - val_loss: 0.2194 - val_accuracy: 0.9519\n",
      "Epoch 10/25\n",
      "19841/19841 [==============================] - 528s 27ms/step - loss: 0.0728 - accuracy: 0.9706 - val_loss: 0.1841 - val_accuracy: 0.9497\n",
      "Epoch 11/25\n",
      "19841/19841 [==============================] - 528s 27ms/step - loss: 0.0684 - accuracy: 0.9722 - val_loss: 0.1842 - val_accuracy: 0.9465\n",
      "Epoch 12/25\n",
      "19841/19841 [==============================] - 531s 27ms/step - loss: 0.0642 - accuracy: 0.9750 - val_loss: 0.1652 - val_accuracy: 0.9560\n",
      "Epoch 13/25\n",
      "19841/19841 [==============================] - 526s 27ms/step - loss: 0.0499 - accuracy: 0.9796 - val_loss: 0.1749 - val_accuracy: 0.9524\n",
      "Epoch 14/25\n",
      "19841/19841 [==============================] - 530s 27ms/step - loss: 0.0462 - accuracy: 0.9799 - val_loss: 0.1714 - val_accuracy: 0.9506\n",
      "Epoch 15/25\n",
      "19841/19841 [==============================] - 526s 26ms/step - loss: 0.0392 - accuracy: 0.9830 - val_loss: 0.1974 - val_accuracy: 0.9528\n",
      "Epoch 16/25\n",
      "19841/19841 [==============================] - 528s 27ms/step - loss: 0.0377 - accuracy: 0.9836 - val_loss: 0.2204 - val_accuracy: 0.9311\n",
      "Epoch 17/25\n",
      "19841/19841 [==============================] - 525s 26ms/step - loss: 0.0307 - accuracy: 0.9864 - val_loss: 0.1841 - val_accuracy: 0.9501\n",
      "Epoch 18/25\n",
      "19841/19841 [==============================] - 532s 27ms/step - loss: 0.0368 - accuracy: 0.9848 - val_loss: 0.1943 - val_accuracy: 0.9556\n",
      "Epoch 19/25\n",
      "19841/19841 [==============================] - 527s 27ms/step - loss: 0.0325 - accuracy: 0.9861 - val_loss: 0.1924 - val_accuracy: 0.9556\n",
      "Epoch 20/25\n",
      "19841/19841 [==============================] - 534s 27ms/step - loss: 0.0271 - accuracy: 0.9890 - val_loss: 0.2548 - val_accuracy: 0.9261\n",
      "Epoch 21/25\n",
      "19841/19841 [==============================] - 526s 27ms/step - loss: 0.0220 - accuracy: 0.9903 - val_loss: 0.2330 - val_accuracy: 0.9574\n",
      "Epoch 22/25\n",
      "19841/19841 [==============================] - 531s 27ms/step - loss: 0.0208 - accuracy: 0.9907 - val_loss: 0.2425 - val_accuracy: 0.9510\n",
      "Epoch 23/25\n",
      "19841/19841 [==============================] - 535s 27ms/step - loss: 0.0210 - accuracy: 0.9907 - val_loss: 0.2119 - val_accuracy: 0.9565\n",
      "Epoch 24/25\n",
      "19841/19841 [==============================] - 532s 27ms/step - loss: 0.0250 - accuracy: 0.9892 - val_loss: 0.2269 - val_accuracy: 0.9537\n",
      "Epoch 25/25\n",
      "19841/19841 [==============================] - 533s 27ms/step - loss: 0.0244 - accuracy: 0.9902 - val_loss: 0.2349 - val_accuracy: 0.9546\n",
      "5512/5512 [==============================] - 61s 11ms/step\n",
      "Test_Accuracy: 95.66%\n"
     ]
    }
   ],
   "source": [
    "X_train, X_test, y_train, y_test = train_test_split(dataset, to_categorical(np.array(label)), test_size = 0.20, random_state = 0)\n",
    "\n",
    "history = model.fit(np.array(X_train), y_train, batch_size=64, verbose=1, epochs=25, validation_split=0.1, shuffle=False)\n",
    "\n",
    "print(\"Test_Accuracy: {:.2f}%\".format(model.evaluate(np.array(X_test), np.array(y_test))[1]*100))\n"
   ]
  },
  {
   "cell_type": "code",
   "execution_count": 10,
   "metadata": {},
   "outputs": [
    {
     "data": {
      "image/png": "[encoded data removed]",
      "text/plain": [
       "<Figure size 864x288 with 2 Axes>"
      ]
     },
     "metadata": {
      "needs_background": "light"
     },
     "output_type": "display_data"
    }
   ],
   "source": [
    "f, (ax1, ax2) = plt.subplots(1, 2, figsize=(12, 4))\n",
    "t = f.suptitle('CNN Performance', fontsize=12)\n",
    "f.subplots_adjust(top=0.85, wspace=0.3)\n",
    "\n",
    "max_epoch = len(history.history['accuracy'])+1\n",
    "epoch_list = list(range(1,max_epoch))\n",
    "ax1.plot(epoch_list, history.history['accuracy'], label='Train Accuracy')\n",
    "ax1.plot(epoch_list, history.history['val_accuracy'], label='Validation Accuracy')\n",
    "ax1.set_xticks(np.arange(1, max_epoch, 5))\n",
    "ax1.set_ylabel('Accuracy Value')\n",
    "ax1.set_xlabel('Epoch')\n",
    "ax1.set_title('Accuracy')\n",
    "l1 = ax1.legend(loc=\"best\")\n",
    "\n",
    "ax2.plot(epoch_list, history.history['loss'], label='Train Loss')\n",
    "ax2.plot(epoch_list, history.history['val_loss'], label='Validation Loss')\n",
    "ax2.set_xticks(np.arange(1, max_epoch, 5))\n",
    "ax2.set_ylabel('Loss Value')\n",
    "ax2.set_xlabel('Epoch')\n",
    "ax2.set_title('Loss')\n",
    "l2 = ax2.legend(loc=\"best\")\n",
    "\n",
    "\n",
    "#Save the model\n",
    "model.save('malaria_cnn.h5')"
   ]
  },
  {
   "cell_type": "code",
   "execution_count": null,
   "metadata": {},
   "outputs": [],
   "source": []
  }
 ],
 "metadata": {
  "kernelspec": {
   "display_name": "Python 3",
   "language": "python",
   "name": "python3"
  },
  "language_info": {
   "codemirror_mode": {
    "name": "ipython",
    "version": 3
   },
   "file_extension": ".py",
   "mimetype": "text/x-python",
   "name": "python",
   "nbconvert_exporter": "python",
   "pygments_lexer": "ipython3",
   "version": "3.6.5"
  }
 },
 "nbformat": 4,
 "nbformat_minor": 4
}
